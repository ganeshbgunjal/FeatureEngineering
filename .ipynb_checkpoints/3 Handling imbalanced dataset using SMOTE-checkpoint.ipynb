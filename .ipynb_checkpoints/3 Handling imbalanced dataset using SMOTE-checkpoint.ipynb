{
 "cells": [
  {
   "cell_type": "markdown",
   "id": "705cb16e-ea8d-4c8f-90ee-c8fddbe8e0f9",
   "metadata": {},
   "source": [
    "### For now i skipped this video."
   ]
  },
  {
   "cell_type": "code",
   "execution_count": null,
   "id": "5d09d2e6-afab-4f98-807e-663b03808b32",
   "metadata": {},
   "outputs": [],
   "source": []
  }
 ],
 "metadata": {
  "kernelspec": {
   "display_name": "Python 3 (ipykernel)",
   "language": "python",
   "name": "python3"
  },
  "language_info": {
   "codemirror_mode": {
    "name": "ipython",
    "version": 3
   },
   "file_extension": ".py",
   "mimetype": "text/x-python",
   "name": "python",
   "nbconvert_exporter": "python",
   "pygments_lexer": "ipython3",
   "version": "3.13.5"
  }
 },
 "nbformat": 4,
 "nbformat_minor": 5
}
