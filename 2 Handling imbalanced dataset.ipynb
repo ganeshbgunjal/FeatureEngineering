{
 "cells": [
  {
   "cell_type": "markdown",
   "id": "04f727ba-4d1b-4832-8e33-78cca0c5fa5e",
   "metadata": {},
   "source": [
    "suppose we have 1000 data points. and there is a classification problem. then we have 900 positive(yes) data points and 100 negative(no) data points. then such dataset is called as imbalanced dataset.   \n",
    "To handle such datasets, we have 2 techniques:"
   ]
  },
  {
   "cell_type": "markdown",
   "id": "ed53fc11-9acf-4385-bfc7-e40e0eaed9b5",
   "metadata": {},
   "source": [
    "### 1. Upsampling:-\n",
    "    We increase the data points where the data points are less(minority).\n",
    "\n",
    "### 2. Downsampling:-\n",
    "    We decrease the datapoints where the data points are more(majority)."
   ]
  },
  {
   "cell_type": "code",
   "execution_count": 1,
   "id": "a690db77-3973-43b2-a289-e55f032185b6",
   "metadata": {},
   "outputs": [],
   "source": [
    "import numpy as np\n",
    "import pandas as pd\n"
   ]
  },
  {
   "cell_type": "code",
   "execution_count": null,
   "id": "4c88a8b7-8cff-450e-9b29-0643ef3d76c0",
   "metadata": {},
   "outputs": [],
   "source": [
    "#set the random seed for reproducibility:\n",
    "np.random.seed(123)\n",
    "\n",
    "#create a dataframe with 2 classes: \n",
    "n_samples = 1000\n",
    "class_0_ratio = 0.9\n",
    "n_class_0 = int(n_samples * class_0_ratio)\n",
    "n_sample_1 = n_samples - n_class_0"
   ]
  }
 ],
 "metadata": {
  "kernelspec": {
   "display_name": "Python 3 (ipykernel)",
   "language": "python",
   "name": "python3"
  },
  "language_info": {
   "codemirror_mode": {
    "name": "ipython",
    "version": 3
   },
   "file_extension": ".py",
   "mimetype": "text/x-python",
   "name": "python",
   "nbconvert_exporter": "python",
   "pygments_lexer": "ipython3",
   "version": "3.13.5"
  }
 },
 "nbformat": 4,
 "nbformat_minor": 5
}
