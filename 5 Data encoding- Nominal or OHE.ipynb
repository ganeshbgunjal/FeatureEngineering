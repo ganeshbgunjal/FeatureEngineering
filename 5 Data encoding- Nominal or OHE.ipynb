{
 "cells": [
  {
   "cell_type": "markdown",
   "id": "74911212-3716-4319-8795-d5ef1ab6401e",
   "metadata": {},
   "source": [
    "## Data Encoding:--\n",
    "1. Nominal/OHE encoding\n",
    "2. Lable and Ordinal encoding\n",
    "3. Target guided Ordinal encoding. "
   ]
  },
  {
   "cell_type": "markdown",
   "id": "df52c4fb-a74b-4ef4-90e3-f6130bf6b34d",
   "metadata": {},
   "source": [
    "### 1. Nominal/OHE encoding: "
   ]
  },
  {
   "cell_type": "code",
   "execution_count": null,
   "id": "9987451b-74b7-4901-ae82-f3909c69dfc9",
   "metadata": {},
   "outputs": [],
   "source": [
    "One hot encoding also known as nominal encoding, is a technique used to represent categorical data as numerable data, which is more suitable "
   ]
  },
  {
   "cell_type": "code",
   "execution_count": null,
   "id": "1ba58a02-1caa-4a2b-bda1-7539bc673b3c",
   "metadata": {},
   "outputs": [],
   "source": [
    "🔹 When to use One-Hot Encoding (OHE)\n",
    "\n",
    "Use it when the categories are nominal (no order).\n",
    "Example:\n",
    "\n",
    "[\"Red\", \"Blue\", \"Green\"] → each gets its own column.\n",
    "\n",
    "Best for linear models (Linear Regression, Logistic Regression, SVM, Neural Networks).\n",
    "\n",
    "Because if you use Label Encoding here, the model may assume \"Green > Blue > Red,\" which is wrong."
   ]
  },
  {
   "cell_type": "markdown",
   "id": "807529cb-f646-4130-807c-b0f91ef040b5",
   "metadata": {},
   "source": [
    "### 🔹 When to use Label Encoding\n",
    "\n",
    "Use it when the categories have a natural order (ordinal).\n",
    "Example:\n",
    "\n",
    "[\"Low\", \"Medium\", \"High\"] → [0, 1, 2]\n",
    "\n",
    "Makes sense because \"High\" really is greater than \"Medium\".\n",
    "\n",
    "Works well for tree-based models (like Decision Trees, Random Forest, XGBoost, LightGBM).\n",
    "\n",
    "These models don’t assume linear relationships between numbers, so they don’t get confused by the integer values."
   ]
  },
  {
   "cell_type": "markdown",
   "id": "8aae34db-a9b3-4121-a5c0-eb8f1cc96a66",
   "metadata": {},
   "source": [
    "### 🔹 When to use One-Hot Encoding (OHE)\n",
    "\n",
    "Use it when the categories are nominal (no order).\n",
    "Example:\n",
    "\n",
    "[\"Red\", \"Blue\", \"Green\"] → each gets its own column.\n",
    "\n",
    "Best for linear models (Linear Regression, Logistic Regression, SVM, Neural Networks).\n",
    "\n",
    "Because if you use Label Encoding here, the model may assume \"Green > Blue > Red,\" which is wrong."
   ]
  },
  {
   "cell_type": "markdown",
   "id": "5d2a9859-baa9-48e2-b85a-6b0e5502ab22",
   "metadata": {},
   "source": [
    "### 🔹 Quick Rule of Thumb\n",
    "\n",
    "Nominal data (no order) → One-Hot Encoding\n",
    "\n",
    "Ordinal data (order exists) → Label Encoding"
   ]
  },
  {
   "cell_type": "code",
   "execution_count": 1,
   "id": "c580e2bc-2089-4be1-a017-9804491f0355",
   "metadata": {},
   "outputs": [],
   "source": [
    "import pandas as pd\n",
    "from sklearn.preprocessing import OneHotEncoder"
   ]
  },
  {
   "cell_type": "markdown",
   "id": "ba45fb8c-e734-450c-8a0f-549a9b88a9db",
   "metadata": {},
   "source": [
    "#### Create a simple dataframe:"
   ]
  },
  {
   "cell_type": "code",
   "execution_count": 2,
   "id": "cb0da65f-a5b5-4fba-b426-025ba8e001ce",
   "metadata": {},
   "outputs": [],
   "source": [
    "df = pd.DataFrame({\n",
    "    'color' : ['red','blue','green','green','red','blue']\n",
    "})"
   ]
  },
  {
   "cell_type": "code",
   "execution_count": 3,
   "id": "0be70111-ae61-4143-bd10-13d7e0132aa4",
   "metadata": {},
   "outputs": [
    {
     "data": {
      "text/html": [
       "<div>\n",
       "<style scoped>\n",
       "    .dataframe tbody tr th:only-of-type {\n",
       "        vertical-align: middle;\n",
       "    }\n",
       "\n",
       "    .dataframe tbody tr th {\n",
       "        vertical-align: top;\n",
       "    }\n",
       "\n",
       "    .dataframe thead th {\n",
       "        text-align: right;\n",
       "    }\n",
       "</style>\n",
       "<table border=\"1\" class=\"dataframe\">\n",
       "  <thead>\n",
       "    <tr style=\"text-align: right;\">\n",
       "      <th></th>\n",
       "      <th>color</th>\n",
       "    </tr>\n",
       "  </thead>\n",
       "  <tbody>\n",
       "    <tr>\n",
       "      <th>0</th>\n",
       "      <td>red</td>\n",
       "    </tr>\n",
       "    <tr>\n",
       "      <th>1</th>\n",
       "      <td>blue</td>\n",
       "    </tr>\n",
       "    <tr>\n",
       "      <th>2</th>\n",
       "      <td>green</td>\n",
       "    </tr>\n",
       "    <tr>\n",
       "      <th>3</th>\n",
       "      <td>green</td>\n",
       "    </tr>\n",
       "    <tr>\n",
       "      <th>4</th>\n",
       "      <td>red</td>\n",
       "    </tr>\n",
       "  </tbody>\n",
       "</table>\n",
       "</div>"
      ],
      "text/plain": [
       "   color\n",
       "0    red\n",
       "1   blue\n",
       "2  green\n",
       "3  green\n",
       "4    red"
      ]
     },
     "execution_count": 3,
     "metadata": {},
     "output_type": "execute_result"
    }
   ],
   "source": [
    "df.head()"
   ]
  },
  {
   "cell_type": "code",
   "execution_count": 4,
   "id": "d317ac1a-fa37-4410-99fd-a27c8473f859",
   "metadata": {},
   "outputs": [],
   "source": [
    "#### Create an instance of one hot encoder: \n",
    "encoder= OneHotEncoder()"
   ]
  },
  {
   "cell_type": "code",
   "execution_count": null,
   "id": "c900959a-5e96-4267-a413-d07d78ab39e3",
   "metadata": {},
   "outputs": [],
   "source": []
  }
 ],
 "metadata": {
  "kernelspec": {
   "display_name": "Python 3 (ipykernel)",
   "language": "python",
   "name": "python3"
  },
  "language_info": {
   "codemirror_mode": {
    "name": "ipython",
    "version": 3
   },
   "file_extension": ".py",
   "mimetype": "text/x-python",
   "name": "python",
   "nbconvert_exporter": "python",
   "pygments_lexer": "ipython3",
   "version": "3.13.5"
  }
 },
 "nbformat": 4,
 "nbformat_minor": 5
}
