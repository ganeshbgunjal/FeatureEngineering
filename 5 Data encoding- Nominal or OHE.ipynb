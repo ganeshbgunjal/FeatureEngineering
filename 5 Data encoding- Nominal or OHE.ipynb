{
 "cells": [
  {
   "cell_type": "markdown",
   "id": "74911212-3716-4319-8795-d5ef1ab6401e",
   "metadata": {},
   "source": [
    "## Data Encoding:--\n",
    "1. Nominal/OHE encoding\n",
    "2. Lable and Ordinal encoding\n",
    "3. Target guided Ordinal encoding. "
   ]
  },
  {
   "cell_type": "code",
   "execution_count": null,
   "id": "f689754c-01d3-4535-8429-7ed1005a970c",
   "metadata": {},
   "outputs": [],
   "source": []
  }
 ],
 "metadata": {
  "kernelspec": {
   "display_name": "Python 3 (ipykernel)",
   "language": "python",
   "name": "python3"
  },
  "language_info": {
   "codemirror_mode": {
    "name": "ipython",
    "version": 3
   },
   "file_extension": ".py",
   "mimetype": "text/x-python",
   "name": "python",
   "nbconvert_exporter": "python",
   "pygments_lexer": "ipython3",
   "version": "3.13.5"
  }
 },
 "nbformat": 4,
 "nbformat_minor": 5
}
